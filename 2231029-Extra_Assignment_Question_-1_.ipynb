{
 "cells": [
  {
   "cell_type": "code",
   "execution_count": 1,
   "metadata": {},
   "outputs": [
    {
     "name": "stdout",
     "output_type": "stream",
     "text": [
      "HOPE AI\n"
     ]
    }
   ],
   "source": [
    "print(\"HOPE AI\")"
   ]
  },
  {
   "cell_type": "code",
   "execution_count": 2,
   "metadata": {},
   "outputs": [
    {
     "name": "stdout",
     "output_type": "stream",
     "text": [
      "Enter your Institute name?:Hope AI\n"
     ]
    }
   ],
   "source": [
    "Ins_name=input(\"Enter your Institute name?:\")\n"
   ]
  },
  {
   "cell_type": "code",
   "execution_count": 3,
   "metadata": {},
   "outputs": [
    {
     "name": "stdout",
     "output_type": "stream",
     "text": [
      "Enter your name:Raj\n",
      "Enter your age:15\n",
      "Enter you school name:Guru School\n",
      "Enter your degree:B.E CSE\n"
     ]
    }
   ],
   "source": [
    "name=input(\"Enter your name:\")\n",
    "age=int(input(\"Enter your age:\"))\n",
    "school_name=input(\"Enter you school name:\")\n",
    "degree=input(\"Enter your degree:\")\n"
   ]
  },
  {
   "cell_type": "code",
   "execution_count": 4,
   "metadata": {},
   "outputs": [
    {
     "name": "stdout",
     "output_type": "stream",
     "text": [
      "a=43\n",
      "b=34\n",
      "add= 77\n"
     ]
    }
   ],
   "source": [
    "num1=int(input(\"a=\"))\n",
    "num2=int(input(\"b=\"))\n",
    "c=num1+num2\n",
    "print(\"add=\",c)"
   ]
  },
  {
   "cell_type": "code",
   "execution_count": 6,
   "metadata": {},
   "outputs": [
    {
     "name": "stdout",
     "output_type": "stream",
     "text": [
      "a=43\n",
      "b=34\n",
      "sub= 9\n"
     ]
    }
   ],
   "source": [
    "num1=int(input(\"a=\"))\n",
    "num2=int(input(\"b=\"))\n",
    "c=num1-num2\n",
    "print(\"sub=\",c)"
   ]
  },
  {
   "cell_type": "code",
   "execution_count": 7,
   "metadata": {},
   "outputs": [
    {
     "name": "stdout",
     "output_type": "stream",
     "text": [
      "a=63\n",
      "b=97\n",
      "mul= 6111\n"
     ]
    }
   ],
   "source": [
    "num1=int(input(\"a=\"))\n",
    "num2=int(input(\"b=\"))\n",
    "c=num1*num2\n",
    "print(\"mul=\",c)"
   ]
  },
  {
   "cell_type": "code",
   "execution_count": 9,
   "metadata": {},
   "outputs": [
    {
     "name": "stdout",
     "output_type": "stream",
     "text": [
      "a=76\n",
      "b=31\n",
      "Float Div= 2.4516129032258065\n"
     ]
    }
   ],
   "source": [
    "num1=int(input(\"a=\"))\n",
    "num2=int(input(\"b=\"))\n",
    "F_Div=num1/num2\n",
    "print(\"Float Div=\",F_Div)"
   ]
  },
  {
   "cell_type": "code",
   "execution_count": 10,
   "metadata": {},
   "outputs": [
    {
     "name": "stdout",
     "output_type": "stream",
     "text": [
      "a=76\n",
      "b=31\n",
      "Floor Div= 2\n"
     ]
    }
   ],
   "source": [
    "num1=int(input(\"a=\"))\n",
    "num2=int(input(\"b=\"))\n",
    "FL_Div=num1//num2\n",
    "print(\"Floor Div=\",FL_Div)\n"
   ]
  },
  {
   "cell_type": "code",
   "execution_count": 1,
   "metadata": {},
   "outputs": [
    {
     "name": "stdout",
     "output_type": "stream",
     "text": [
      "a=76\n",
      "b=31\n",
      "Modulo= 14\n"
     ]
    }
   ],
   "source": [
    "num1=int(input(\"a=\"))\n",
    "num2=int(input(\"b=\"))\n",
    "mod=num1%num2\n",
    "print(\"Modulo=\",mod)"
   ]
  },
  {
   "cell_type": "code",
   "execution_count": 4,
   "metadata": {},
   "outputs": [
    {
     "name": "stdout",
     "output_type": "stream",
     "text": [
      "a=4\n",
      "b=4\n",
      "Power= 256\n"
     ]
    }
   ],
   "source": [
    "num1=int(input(\"a=\"))\n",
    "num2=int(input(\"b=\"))\n",
    "Ans=num1**num2\n",
    "print(\"Power=\",Ans)"
   ]
  },
  {
   "cell_type": "code",
   "execution_count": null,
   "metadata": {},
   "outputs": [],
   "source": []
  }
 ],
 "metadata": {
  "kernelspec": {
   "display_name": "Python 3",
   "language": "python",
   "name": "python3"
  },
  "language_info": {
   "codemirror_mode": {
    "name": "ipython",
    "version": 3
   },
   "file_extension": ".py",
   "mimetype": "text/x-python",
   "name": "python",
   "nbconvert_exporter": "python",
   "pygments_lexer": "ipython3",
   "version": "3.7.4"
  }
 },
 "nbformat": 4,
 "nbformat_minor": 2
}
